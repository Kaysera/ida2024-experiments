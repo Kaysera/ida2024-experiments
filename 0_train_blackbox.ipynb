{
 "cells": [
  {
   "cell_type": "code",
   "execution_count": 1,
   "metadata": {},
   "outputs": [],
   "source": [
    "import random\n",
    "import numpy as np\n",
    "import pickle\n",
    "\n",
    "from sklearn.ensemble import RandomForestClassifier\n",
    "from sklearn.neural_network import MLPClassifier\n",
    "from sklearn.svm import SVC\n",
    "from sklearn.model_selection import train_test_split\n",
    "\n",
    "from joblib import dump, load"
   ]
  },
  {
   "cell_type": "code",
   "execution_count": 2,
   "metadata": {},
   "outputs": [],
   "source": [
    "from teacher.datasets import load_compas, load_german, load_adult, load_heloc, load_iris, load_wine, load_beer\n",
    "from teacher.fuzzy import get_fuzzy_variables, get_fuzzy_points\n",
    "from teacher.tree import FDT"
   ]
  },
  {
   "cell_type": "code",
   "execution_count": 3,
   "metadata": {},
   "outputs": [],
   "source": [
    "random_state = 42\n",
    "seed = 42"
   ]
  },
  {
   "cell_type": "code",
   "execution_count": 4,
   "metadata": {},
   "outputs": [],
   "source": [
    "DATASETS = {\n",
    "    'adult': load_adult,\n",
    "    'compas': load_compas,\n",
    "    'fico': load_heloc,\n",
    "    'german': load_german,\n",
    "    'iris': load_iris,\n",
    "    'wine': load_wine,\n",
    "    'beer': load_beer\n",
    "}"
   ]
  },
  {
   "cell_type": "code",
   "execution_count": 5,
   "metadata": {},
   "outputs": [],
   "source": [
    "BLACK_BOXES = {\n",
    "    'RF': RandomForestClassifier(random_state=seed),\n",
    "    'NN': MLPClassifier(random_state=seed),\n",
    "    'SVM': SVC(random_state=seed),\n",
    "}"
   ]
  },
  {
   "cell_type": "code",
   "execution_count": 10,
   "metadata": {},
   "outputs": [
    {
     "name": "stderr",
     "output_type": "stream",
     "text": [
      "f:\\guillermo\\Documentos\\Universidad\\Doctorado\\Articulos\\Propios\\FLOCALX\\ida2024-experiments\\.venv\\Lib\\site-packages\\sklearn\\neural_network\\_multilayer_perceptron.py:691: ConvergenceWarning: Stochastic Optimizer: Maximum iterations (200) reached and the optimization hasn't converged yet.\n",
      "  warnings.warn(\n"
     ]
    },
    {
     "data": {
      "text/plain": [
       "0.8125"
      ]
     },
     "execution_count": 10,
     "metadata": {},
     "output_type": "execute_result"
    }
   ],
   "source": [
    "random.seed(random_state)\n",
    "np.random.seed(random_state)\n",
    "path_models = './models/'\n",
    "bb = 'NN'\n",
    "ds = 'beer'\n",
    "\n",
    "black_box = BLACK_BOXES[bb]\n",
    "\n",
    "dataset = DATASETS[ds]()\n",
    "X, y = dataset['X'], dataset['y']\n",
    "\n",
    "# TRAIN 60, DEV 25, TEST 15\n",
    "X_train, X_test, y_train, y_test = train_test_split(X, y, train_size=0.6, random_state=random_state)\n",
    "\n",
    "black_box.fit(X_train, y_train)\n",
    "black_box.score(X_test, y_test)"
   ]
  },
  {
   "cell_type": "code",
   "execution_count": 11,
   "metadata": {},
   "outputs": [
    {
     "data": {
      "text/plain": [
       "['./models/beer_NN.joblib']"
      ]
     },
     "execution_count": 11,
     "metadata": {},
     "output_type": "execute_result"
    }
   ],
   "source": [
    "dump(black_box, path_models + f'{ds}_{bb}.joblib')"
   ]
  },
  {
   "cell_type": "code",
   "execution_count": null,
   "metadata": {},
   "outputs": [],
   "source": []
  }
 ],
 "metadata": {
  "kernelspec": {
   "display_name": ".venv",
   "language": "python",
   "name": "python3"
  },
  "language_info": {
   "codemirror_mode": {
    "name": "ipython",
    "version": 3
   },
   "file_extension": ".py",
   "mimetype": "text/x-python",
   "name": "python",
   "nbconvert_exporter": "python",
   "pygments_lexer": "ipython3",
   "version": "3.11.5"
  }
 },
 "nbformat": 4,
 "nbformat_minor": 2
}
