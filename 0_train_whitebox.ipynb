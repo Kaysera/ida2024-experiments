{
 "cells": [
  {
   "cell_type": "code",
   "execution_count": 1,
   "metadata": {},
   "outputs": [],
   "source": [
    "from utils import seed\n",
    "\n",
    "import pickle\n",
    "import numpy as np\n",
    "\n",
    "from sklearn.model_selection import train_test_split\n",
    "from joblib import dump, load\n",
    "\n",
    "\n",
    "import random\n",
    "from teacher.datasets import load_compas, load_german, load_adult, load_heloc, load_iris, load_wine, load_beer\n",
    "from teacher.fuzzy import get_fuzzy_variables, get_fuzzy_points\n",
    "from teacher.tree import FDT\n",
    "\n",
    "\n",
    "# %%\n",
    "DATASETS = {\n",
    "    'adult': load_adult,\n",
    "    'compas': load_compas,\n",
    "    'fico': load_heloc,\n",
    "    'german': load_german,\n",
    "    'iris': load_iris,\n",
    "    'wine': load_wine,\n",
    "    'beer': load_beer\n",
    "}"
   ]
  },
  {
   "cell_type": "code",
   "execution_count": 2,
   "metadata": {},
   "outputs": [],
   "source": [
    "BEER_FUZZY_POINTS = {\n",
    "    'color': [0,5.25,13.25,24,45],\n",
    "    'bitterness': [7,26.75,40,250],\n",
    "    'strength': [0.035, 0.06, 0.07875, 0.136]\n",
    "}"
   ]
  },
  {
   "cell_type": "code",
   "execution_count": 12,
   "metadata": {},
   "outputs": [],
   "source": [
    "def train_models(ds, bb, random_state):\n",
    "    random.seed(random_state)\n",
    "    np.random.seed(random_state)\n",
    "    path_models = './models/'\n",
    "\n",
    "    dataset = DATASETS[ds]()\n",
    "    class_name = dataset['class_name']\n",
    "    discrete = dataset['discrete']\n",
    "    continuous = dataset['continuous']\n",
    "    df = dataset['df']\n",
    "    X = df.drop(class_name, axis=1)\n",
    "    y = df[class_name]\n",
    "\n",
    "    X_train, X_test, y_train, y_test = train_test_split(X, y, train_size=0.6, random_state=random_state)\n",
    "\n",
    "    X_num = X_train[continuous]\n",
    "    print(f'Extracting fuzzy points...')\n",
    "    if ds == 'beer':\n",
    "        fuzzy_points = BEER_FUZZY_POINTS\n",
    "    else:\n",
    "        fuzzy_points = get_fuzzy_points('entropy', continuous, X_num, y_train)\n",
    "    print(fuzzy_points)\n",
    "    cate = [col for col in discrete if col != class_name]\n",
    "\n",
    "    discrete_fuzzy_values = {col: X_train[col].unique() for col in cate}\n",
    "    fuzzy_variables_order = {col: i for i, col in enumerate(X_train.columns)}\n",
    "    fuzzy_variables = get_fuzzy_variables(fuzzy_points, discrete_fuzzy_values, fuzzy_variables_order)\n",
    "    print(f'Training FDT...')\n",
    "    fdt = FDT(fuzzy_variables)\n",
    "    fdt.fit(X_train, y_train)\n",
    "    \n",
    "    dump(fdt, path_models + '%s_%s.joblib' % (ds, bb))\n",
    "    score = fdt.score(X_test, y_test)\n",
    "    print(f'Accuracy for model {bb} and dataset {ds}: {score}')\n"
   ]
  },
  {
   "cell_type": "code",
   "execution_count": 13,
   "metadata": {},
   "outputs": [],
   "source": [
    "def check_models(ds, bb, random_state):\n",
    "    random.seed(random_state)\n",
    "    np.random.seed(random_state)\n",
    "    path_models = './models/'\n",
    "\n",
    "    dataset = DATASETS[ds]()\n",
    "    class_name = dataset['class_name']\n",
    "    discrete = dataset['discrete']\n",
    "    continuous = dataset['continuous']\n",
    "    df = dataset['df']\n",
    "    X = df.drop(class_name, axis=1)\n",
    "    y = df[class_name]\n",
    "\n",
    "    X_train, X_test, y_train, y_test = train_test_split(X, y, train_size=0.6, random_state=random_state)\n",
    "    X_dev, X_test, y_dev, y_test = train_test_split(X_test, y_test, train_size=0.75, random_state=random_state)\n",
    "\n",
    "    \n",
    "    fdt = load(path_models + '%s_%s.joblib' % (ds, bb))\n",
    "    score = fdt.score(X_test, y_test)\n",
    "    print(f'Accuracy for model {bb} and dataset {ds}: {score}')"
   ]
  },
  {
   "cell_type": "code",
   "execution_count": 14,
   "metadata": {},
   "outputs": [
    {
     "name": "stdout",
     "output_type": "stream",
     "text": [
      "Extracting fuzzy points...\n",
      "{'color': [0, 5.25, 13.25, 24, 45], 'bitterness': [7, 26.75, 40, 250], 'strength': [0.035, 0.06, 0.07875, 0.136]}\n",
      "Training FDT...\n",
      "Accuracy for model FDT and dataset beer: 0.98125\n"
     ]
    }
   ],
   "source": [
    "train_models('beer', 'FDT', seed)"
   ]
  },
  {
   "cell_type": "code",
   "execution_count": 5,
   "metadata": {},
   "outputs": [
    {
     "name": "stdout",
     "output_type": "stream",
     "text": [
      "Extracting fuzzy points...\n",
      "Training FDT...\n",
      "Accuracy for model FDT and dataset wine: 0.9166666666666666\n"
     ]
    }
   ],
   "source": [
    "train_models('wine', 'FDT', seed)"
   ]
  },
  {
   "cell_type": "code",
   "execution_count": 6,
   "metadata": {},
   "outputs": [
    {
     "name": "stdout",
     "output_type": "stream",
     "text": [
      "Extracting fuzzy points...\n",
      "Training FDT...\n",
      "Accuracy for model FDT and dataset beer: 0.43125\n"
     ]
    }
   ],
   "source": [
    "train_models('beer', 'FDT', seed)"
   ]
  },
  {
   "cell_type": "code",
   "execution_count": 15,
   "metadata": {},
   "outputs": [
    {
     "name": "stdout",
     "output_type": "stream",
     "text": [
      "Accuracy for model FDT and dataset beer: 1.0\n"
     ]
    }
   ],
   "source": [
    "check_models('beer', 'FDT', seed)"
   ]
  }
 ],
 "metadata": {
  "kernelspec": {
   "display_name": ".venv",
   "language": "python",
   "name": "python3"
  },
  "language_info": {
   "codemirror_mode": {
    "name": "ipython",
    "version": 3
   },
   "file_extension": ".py",
   "mimetype": "text/x-python",
   "name": "python",
   "nbconvert_exporter": "python",
   "pygments_lexer": "ipython3",
   "version": "3.11.5"
  }
 },
 "nbformat": 4,
 "nbformat_minor": 2
}
